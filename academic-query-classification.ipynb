{
 "cells": [
  {
   "cell_type": "code",
   "execution_count": 1,
   "id": "e56d3c6a",
   "metadata": {
    "_cell_guid": "b1076dfc-b9ad-4769-8c92-a6c4dae69d19",
    "_uuid": "8f2839f25d086af736a60e9eeb907d3b93b6e0e5",
    "execution": {
     "iopub.execute_input": "2024-03-16T18:46:32.934740Z",
     "iopub.status.busy": "2024-03-16T18:46:32.933888Z",
     "iopub.status.idle": "2024-03-16T18:46:33.867580Z",
     "shell.execute_reply": "2024-03-16T18:46:33.866087Z"
    },
    "papermill": {
     "duration": 0.94963,
     "end_time": "2024-03-16T18:46:33.871397",
     "exception": false,
     "start_time": "2024-03-16T18:46:32.921767",
     "status": "completed"
    },
    "tags": []
   },
   "outputs": [
    {
     "name": "stdout",
     "output_type": "stream",
     "text": [
      "/kaggle/input/academic-query-classification/sample_submission.csv\n",
      "/kaggle/input/academic-query-classification/train.csv\n",
      "/kaggle/input/academic-query-classification/test.csv\n"
     ]
    }
   ],
   "source": [
    "# This Python 3 environment comes with many helpful analytics libraries installed\n",
    "# It is defined by the kaggle/python Docker image: https://github.com/kaggle/docker-python\n",
    "# For example, here's several helpful packages to load\n",
    "\n",
    "import numpy as np # linear algebra\n",
    "import pandas as pd # data processing, CSV file I/O (e.g. pd.read_csv)\n",
    "\n",
    "# Input data files are available in the read-only \"../input/\" directory\n",
    "# For example, running this (by clicking run or pressing Shift+Enter) will list all files under the input directory\n",
    "\n",
    "import os\n",
    "for dirname, _, filenames in os.walk('/kaggle/input'):\n",
    "    for filename in filenames:\n",
    "        print(os.path.join(dirname, filename))\n",
    "\n",
    "# You can write up to 20GB to the current directory (/kaggle/working/) that gets preserved as output when you create a version using \"Save & Run All\" \n",
    "# You can also write temporary files to /kaggle/temp/, but they won't be saved outside of the current session"
   ]
  },
  {
   "cell_type": "markdown",
   "id": "91dd76fb",
   "metadata": {
    "papermill": {
     "duration": 0.010398,
     "end_time": "2024-03-16T18:46:33.891630",
     "exception": false,
     "start_time": "2024-03-16T18:46:33.881232",
     "status": "completed"
    },
    "tags": []
   },
   "source": [
    "# **Importing Libraries :**"
   ]
  },
  {
   "cell_type": "code",
   "execution_count": 2,
   "id": "7bf72d98",
   "metadata": {
    "execution": {
     "iopub.execute_input": "2024-03-16T18:46:33.912567Z",
     "iopub.status.busy": "2024-03-16T18:46:33.911958Z",
     "iopub.status.idle": "2024-03-16T18:46:36.229919Z",
     "shell.execute_reply": "2024-03-16T18:46:36.228818Z"
    },
    "papermill": {
     "duration": 2.331932,
     "end_time": "2024-03-16T18:46:36.232874",
     "exception": false,
     "start_time": "2024-03-16T18:46:33.900942",
     "status": "completed"
    },
    "tags": []
   },
   "outputs": [],
   "source": [
    "# Data processing\n",
    "import pandas as pd\n",
    "import numpy as np\n",
    "\n",
    "# Data Visualisation\n",
    "import matplotlib.pyplot as plt\n",
    "import seaborn as sns\n",
    "\n",
    "# Stats & model building\n",
    "\n",
    "from sklearn.naive_bayes import MultinomialNB\n",
    "from sklearn.svm import SVC\n",
    "from sklearn.ensemble import RandomForestClassifier\n",
    "from sklearn.pipeline import Pipeline\n",
    "from sklearn.model_selection import train_test_split\n",
    "from sklearn.feature_extraction.text import TfidfVectorizer\n",
    "from sklearn.metrics import classification_report, accuracy_score\n",
    "from imblearn.over_sampling import SMOTE\n",
    "from sklearn.model_selection import RandomizedSearchCV,GridSearchCV\n",
    "\n",
    "# supress warnings\n",
    "import warnings\n",
    "warnings.filterwarnings('ignore')\n"
   ]
  },
  {
   "cell_type": "markdown",
   "id": "d0ce43fe",
   "metadata": {
    "papermill": {
     "duration": 0.00876,
     "end_time": "2024-03-16T18:46:36.250957",
     "exception": false,
     "start_time": "2024-03-16T18:46:36.242197",
     "status": "completed"
    },
    "tags": []
   },
   "source": [
    "# **Loading The Dataset :**"
   ]
  },
  {
   "cell_type": "code",
   "execution_count": 3,
   "id": "b7a73b4b",
   "metadata": {
    "execution": {
     "iopub.execute_input": "2024-03-16T18:46:36.271791Z",
     "iopub.status.busy": "2024-03-16T18:46:36.270761Z",
     "iopub.status.idle": "2024-03-16T18:46:36.328587Z",
     "shell.execute_reply": "2024-03-16T18:46:36.327184Z"
    },
    "papermill": {
     "duration": 0.071645,
     "end_time": "2024-03-16T18:46:36.331750",
     "exception": false,
     "start_time": "2024-03-16T18:46:36.260105",
     "status": "completed"
    },
    "tags": []
   },
   "outputs": [],
   "source": [
    "train_df = pd.read_csv('/kaggle/input/academic-query-classification/train.csv')\n",
    "test_df = pd.read_csv('/kaggle/input/academic-query-classification/test.csv')"
   ]
  },
  {
   "cell_type": "markdown",
   "id": "bc298383",
   "metadata": {
    "papermill": {
     "duration": 0.008778,
     "end_time": "2024-03-16T18:46:36.350140",
     "exception": false,
     "start_time": "2024-03-16T18:46:36.341362",
     "status": "completed"
    },
    "tags": []
   },
   "source": [
    "# **Explore the Data and Concise Summary :**"
   ]
  },
  {
   "cell_type": "code",
   "execution_count": 4,
   "id": "330d0294",
   "metadata": {
    "execution": {
     "iopub.execute_input": "2024-03-16T18:46:36.370922Z",
     "iopub.status.busy": "2024-03-16T18:46:36.370455Z",
     "iopub.status.idle": "2024-03-16T18:46:36.390621Z",
     "shell.execute_reply": "2024-03-16T18:46:36.389316Z"
    },
    "papermill": {
     "duration": 0.034001,
     "end_time": "2024-03-16T18:46:36.393421",
     "exception": false,
     "start_time": "2024-03-16T18:46:36.359420",
     "status": "completed"
    },
    "tags": []
   },
   "outputs": [
    {
     "data": {
      "text/html": [
       "<div>\n",
       "<style scoped>\n",
       "    .dataframe tbody tr th:only-of-type {\n",
       "        vertical-align: middle;\n",
       "    }\n",
       "\n",
       "    .dataframe tbody tr th {\n",
       "        vertical-align: top;\n",
       "    }\n",
       "\n",
       "    .dataframe thead th {\n",
       "        text-align: right;\n",
       "    }\n",
       "</style>\n",
       "<table border=\"1\" class=\"dataframe\">\n",
       "  <thead>\n",
       "    <tr style=\"text-align: right;\">\n",
       "      <th></th>\n",
       "      <th>unique ID</th>\n",
       "      <th>query_text</th>\n",
       "      <th>category</th>\n",
       "    </tr>\n",
       "  </thead>\n",
       "  <tbody>\n",
       "    <tr>\n",
       "      <th>0</th>\n",
       "      <td>0</td>\n",
       "      <td>HTTPS://VIMEO.COM/107297364﻿</td>\n",
       "      <td>junk</td>\n",
       "    </tr>\n",
       "    <tr>\n",
       "      <th>1</th>\n",
       "      <td>1</td>\n",
       "      <td>Art and Culture</td>\n",
       "      <td>general</td>\n",
       "    </tr>\n",
       "    <tr>\n",
       "      <th>2</th>\n",
       "      <td>2</td>\n",
       "      <td>Differentiate between chemical and biological ...</td>\n",
       "      <td>academic_servable</td>\n",
       "    </tr>\n",
       "    <tr>\n",
       "      <th>3</th>\n",
       "      <td>3</td>\n",
       "      <td>nth Term of an AP</td>\n",
       "      <td>academic_servable</td>\n",
       "    </tr>\n",
       "    <tr>\n",
       "      <th>4</th>\n",
       "      <td>4</td>\n",
       "      <td>bunmei kaika: aoiza ibunroku saien</td>\n",
       "      <td>junk</td>\n",
       "    </tr>\n",
       "  </tbody>\n",
       "</table>\n",
       "</div>"
      ],
      "text/plain": [
       "   unique ID                                         query_text  \\\n",
       "0          0                       HTTPS://VIMEO.COM/107297364﻿   \n",
       "1          1                                    Art and Culture   \n",
       "2          2  Differentiate between chemical and biological ...   \n",
       "3          3                                  nth Term of an AP   \n",
       "4          4                 bunmei kaika: aoiza ibunroku saien   \n",
       "\n",
       "            category  \n",
       "0               junk  \n",
       "1            general  \n",
       "2  academic_servable  \n",
       "3  academic_servable  \n",
       "4               junk  "
      ]
     },
     "execution_count": 4,
     "metadata": {},
     "output_type": "execute_result"
    }
   ],
   "source": [
    "# Looking at the first five rows\n",
    "\n",
    "train_df.head()"
   ]
  },
  {
   "cell_type": "code",
   "execution_count": 5,
   "id": "c0b88a2c",
   "metadata": {
    "execution": {
     "iopub.execute_input": "2024-03-16T18:46:36.415672Z",
     "iopub.status.busy": "2024-03-16T18:46:36.415237Z",
     "iopub.status.idle": "2024-03-16T18:46:36.426436Z",
     "shell.execute_reply": "2024-03-16T18:46:36.425214Z"
    },
    "papermill": {
     "duration": 0.024535,
     "end_time": "2024-03-16T18:46:36.428799",
     "exception": false,
     "start_time": "2024-03-16T18:46:36.404264",
     "status": "completed"
    },
    "tags": []
   },
   "outputs": [
    {
     "data": {
      "text/html": [
       "<div>\n",
       "<style scoped>\n",
       "    .dataframe tbody tr th:only-of-type {\n",
       "        vertical-align: middle;\n",
       "    }\n",
       "\n",
       "    .dataframe tbody tr th {\n",
       "        vertical-align: top;\n",
       "    }\n",
       "\n",
       "    .dataframe thead th {\n",
       "        text-align: right;\n",
       "    }\n",
       "</style>\n",
       "<table border=\"1\" class=\"dataframe\">\n",
       "  <thead>\n",
       "    <tr style=\"text-align: right;\">\n",
       "      <th></th>\n",
       "      <th>unique ID</th>\n",
       "      <th>query_text</th>\n",
       "    </tr>\n",
       "  </thead>\n",
       "  <tbody>\n",
       "    <tr>\n",
       "      <th>0</th>\n",
       "      <td>0</td>\n",
       "      <td>yes</td>\n",
       "    </tr>\n",
       "    <tr>\n",
       "      <th>1</th>\n",
       "      <td>1</td>\n",
       "      <td>If x = a 2 b 3 c 4 and y = a b 4 c 2 find the ...</td>\n",
       "    </tr>\n",
       "    <tr>\n",
       "      <th>2</th>\n",
       "      <td>2</td>\n",
       "      <td>x + 7y=10;3x - 2y=7</td>\n",
       "    </tr>\n",
       "    <tr>\n",
       "      <th>3</th>\n",
       "      <td>3</td>\n",
       "      <td>Given tan β = cos θ tan α \\[ \\begin{array}{l} ...</td>\n",
       "    </tr>\n",
       "    <tr>\n",
       "      <th>4</th>\n",
       "      <td>4</td>\n",
       "      <td>Identify the chiral molecule from the following.</td>\n",
       "    </tr>\n",
       "  </tbody>\n",
       "</table>\n",
       "</div>"
      ],
      "text/plain": [
       "   unique ID                                         query_text\n",
       "0          0                                                yes\n",
       "1          1  If x = a 2 b 3 c 4 and y = a b 4 c 2 find the ...\n",
       "2          2                                x + 7y=10;3x - 2y=7\n",
       "3          3  Given tan β = cos θ tan α \\[ \\begin{array}{l} ...\n",
       "4          4   Identify the chiral molecule from the following."
      ]
     },
     "execution_count": 5,
     "metadata": {},
     "output_type": "execute_result"
    }
   ],
   "source": [
    "test_df.head()"
   ]
  },
  {
   "cell_type": "code",
   "execution_count": 6,
   "id": "7a3e48cd",
   "metadata": {
    "execution": {
     "iopub.execute_input": "2024-03-16T18:46:36.449934Z",
     "iopub.status.busy": "2024-03-16T18:46:36.449449Z",
     "iopub.status.idle": "2024-03-16T18:46:36.455587Z",
     "shell.execute_reply": "2024-03-16T18:46:36.454335Z"
    },
    "papermill": {
     "duration": 0.019877,
     "end_time": "2024-03-16T18:46:36.458143",
     "exception": false,
     "start_time": "2024-03-16T18:46:36.438266",
     "status": "completed"
    },
    "tags": []
   },
   "outputs": [
    {
     "name": "stdout",
     "output_type": "stream",
     "text": [
      "Rows: 5000 \n",
      "Columns:  3\n"
     ]
    }
   ],
   "source": [
    "# Find the no. of datapoints and features\n",
    "\n",
    "print('Rows:', train_df.shape[0],'\\n' 'Columns: ',train_df.shape[1])"
   ]
  },
  {
   "cell_type": "code",
   "execution_count": 7,
   "id": "8711cc92",
   "metadata": {
    "execution": {
     "iopub.execute_input": "2024-03-16T18:46:36.479900Z",
     "iopub.status.busy": "2024-03-16T18:46:36.478788Z",
     "iopub.status.idle": "2024-03-16T18:46:36.511102Z",
     "shell.execute_reply": "2024-03-16T18:46:36.509065Z"
    },
    "papermill": {
     "duration": 0.04615,
     "end_time": "2024-03-16T18:46:36.513887",
     "exception": false,
     "start_time": "2024-03-16T18:46:36.467737",
     "status": "completed"
    },
    "tags": []
   },
   "outputs": [
    {
     "name": "stdout",
     "output_type": "stream",
     "text": [
      "<class 'pandas.core.frame.DataFrame'>\n",
      "RangeIndex: 5000 entries, 0 to 4999\n",
      "Data columns (total 3 columns):\n",
      " #   Column      Non-Null Count  Dtype \n",
      "---  ------      --------------  ----- \n",
      " 0   unique ID   5000 non-null   int64 \n",
      " 1   query_text  5000 non-null   object\n",
      " 2   category    5000 non-null   object\n",
      "dtypes: int64(1), object(2)\n",
      "memory usage: 117.3+ KB\n"
     ]
    }
   ],
   "source": [
    "# see the type of each column\n",
    "\n",
    "train_df.info()"
   ]
  },
  {
   "cell_type": "code",
   "execution_count": 8,
   "id": "dee4c6f4",
   "metadata": {
    "execution": {
     "iopub.execute_input": "2024-03-16T18:46:36.535156Z",
     "iopub.status.busy": "2024-03-16T18:46:36.534662Z",
     "iopub.status.idle": "2024-03-16T18:46:36.550946Z",
     "shell.execute_reply": "2024-03-16T18:46:36.549263Z"
    },
    "papermill": {
     "duration": 0.029991,
     "end_time": "2024-03-16T18:46:36.553573",
     "exception": false,
     "start_time": "2024-03-16T18:46:36.523582",
     "status": "completed"
    },
    "tags": []
   },
   "outputs": [
    {
     "data": {
      "text/plain": [
       "unique ID     5000\n",
       "query_text    5000\n",
       "category         5\n",
       "dtype: int64"
      ]
     },
     "execution_count": 8,
     "metadata": {},
     "output_type": "execute_result"
    }
   ],
   "source": [
    "train_df.nunique()"
   ]
  },
  {
   "cell_type": "code",
   "execution_count": 9,
   "id": "17654797",
   "metadata": {
    "execution": {
     "iopub.execute_input": "2024-03-16T18:46:36.575688Z",
     "iopub.status.busy": "2024-03-16T18:46:36.575197Z",
     "iopub.status.idle": "2024-03-16T18:46:36.585470Z",
     "shell.execute_reply": "2024-03-16T18:46:36.584184Z"
    },
    "papermill": {
     "duration": 0.024244,
     "end_time": "2024-03-16T18:46:36.588101",
     "exception": false,
     "start_time": "2024-03-16T18:46:36.563857",
     "status": "completed"
    },
    "tags": []
   },
   "outputs": [
    {
     "data": {
      "text/plain": [
       "category\n",
       "academic_servable        1750\n",
       "junk                     1000\n",
       "general                  1000\n",
       "academic_non_servable     750\n",
       "conversational            500\n",
       "Name: count, dtype: int64"
      ]
     },
     "execution_count": 9,
     "metadata": {},
     "output_type": "execute_result"
    }
   ],
   "source": [
    "# Unique value check of 'category' column\n",
    "\n",
    "train_df['category'].value_counts()"
   ]
  },
  {
   "cell_type": "code",
   "execution_count": 10,
   "id": "7b5e94f5",
   "metadata": {
    "execution": {
     "iopub.execute_input": "2024-03-16T18:46:36.610276Z",
     "iopub.status.busy": "2024-03-16T18:46:36.609387Z",
     "iopub.status.idle": "2024-03-16T18:46:36.638677Z",
     "shell.execute_reply": "2024-03-16T18:46:36.637493Z"
    },
    "papermill": {
     "duration": 0.043025,
     "end_time": "2024-03-16T18:46:36.641134",
     "exception": false,
     "start_time": "2024-03-16T18:46:36.598109",
     "status": "completed"
    },
    "tags": []
   },
   "outputs": [
    {
     "data": {
      "text/html": [
       "<div>\n",
       "<style scoped>\n",
       "    .dataframe tbody tr th:only-of-type {\n",
       "        vertical-align: middle;\n",
       "    }\n",
       "\n",
       "    .dataframe tbody tr th {\n",
       "        vertical-align: top;\n",
       "    }\n",
       "\n",
       "    .dataframe thead th {\n",
       "        text-align: right;\n",
       "    }\n",
       "</style>\n",
       "<table border=\"1\" class=\"dataframe\">\n",
       "  <thead>\n",
       "    <tr style=\"text-align: right;\">\n",
       "      <th></th>\n",
       "      <th>unique ID</th>\n",
       "      <th>query_text</th>\n",
       "      <th>category</th>\n",
       "    </tr>\n",
       "  </thead>\n",
       "  <tbody>\n",
       "    <tr>\n",
       "      <th>count</th>\n",
       "      <td>5000.000000</td>\n",
       "      <td>5000</td>\n",
       "      <td>5000</td>\n",
       "    </tr>\n",
       "    <tr>\n",
       "      <th>unique</th>\n",
       "      <td>NaN</td>\n",
       "      <td>5000</td>\n",
       "      <td>5</td>\n",
       "    </tr>\n",
       "    <tr>\n",
       "      <th>top</th>\n",
       "      <td>NaN</td>\n",
       "      <td>HTTPS://VIMEO.COM/107297364﻿</td>\n",
       "      <td>academic_servable</td>\n",
       "    </tr>\n",
       "    <tr>\n",
       "      <th>freq</th>\n",
       "      <td>NaN</td>\n",
       "      <td>1</td>\n",
       "      <td>1750</td>\n",
       "    </tr>\n",
       "    <tr>\n",
       "      <th>mean</th>\n",
       "      <td>2499.500000</td>\n",
       "      <td>NaN</td>\n",
       "      <td>NaN</td>\n",
       "    </tr>\n",
       "    <tr>\n",
       "      <th>std</th>\n",
       "      <td>1443.520003</td>\n",
       "      <td>NaN</td>\n",
       "      <td>NaN</td>\n",
       "    </tr>\n",
       "    <tr>\n",
       "      <th>min</th>\n",
       "      <td>0.000000</td>\n",
       "      <td>NaN</td>\n",
       "      <td>NaN</td>\n",
       "    </tr>\n",
       "    <tr>\n",
       "      <th>25%</th>\n",
       "      <td>1249.750000</td>\n",
       "      <td>NaN</td>\n",
       "      <td>NaN</td>\n",
       "    </tr>\n",
       "    <tr>\n",
       "      <th>50%</th>\n",
       "      <td>2499.500000</td>\n",
       "      <td>NaN</td>\n",
       "      <td>NaN</td>\n",
       "    </tr>\n",
       "    <tr>\n",
       "      <th>75%</th>\n",
       "      <td>3749.250000</td>\n",
       "      <td>NaN</td>\n",
       "      <td>NaN</td>\n",
       "    </tr>\n",
       "    <tr>\n",
       "      <th>max</th>\n",
       "      <td>4999.000000</td>\n",
       "      <td>NaN</td>\n",
       "      <td>NaN</td>\n",
       "    </tr>\n",
       "  </tbody>\n",
       "</table>\n",
       "</div>"
      ],
      "text/plain": [
       "          unique ID                    query_text           category\n",
       "count   5000.000000                          5000               5000\n",
       "unique          NaN                          5000                  5\n",
       "top             NaN  HTTPS://VIMEO.COM/107297364﻿  academic_servable\n",
       "freq            NaN                             1               1750\n",
       "mean    2499.500000                           NaN                NaN\n",
       "std     1443.520003                           NaN                NaN\n",
       "min        0.000000                           NaN                NaN\n",
       "25%     1249.750000                           NaN                NaN\n",
       "50%     2499.500000                           NaN                NaN\n",
       "75%     3749.250000                           NaN                NaN\n",
       "max     4999.000000                           NaN                NaN"
      ]
     },
     "execution_count": 10,
     "metadata": {},
     "output_type": "execute_result"
    }
   ],
   "source": [
    "# Statistical Summary\n",
    "\n",
    "train_df.describe(include='all')"
   ]
  },
  {
   "cell_type": "markdown",
   "id": "cb45fc70",
   "metadata": {
    "papermill": {
     "duration": 0.009663,
     "end_time": "2024-03-16T18:46:36.661013",
     "exception": false,
     "start_time": "2024-03-16T18:46:36.651350",
     "status": "completed"
    },
    "tags": []
   },
   "source": [
    "**Missing and Duplicate Values :**"
   ]
  },
  {
   "cell_type": "code",
   "execution_count": 11,
   "id": "fc6bdc07",
   "metadata": {
    "execution": {
     "iopub.execute_input": "2024-03-16T18:46:36.683011Z",
     "iopub.status.busy": "2024-03-16T18:46:36.682551Z",
     "iopub.status.idle": "2024-03-16T18:46:36.692218Z",
     "shell.execute_reply": "2024-03-16T18:46:36.691072Z"
    },
    "papermill": {
     "duration": 0.023629,
     "end_time": "2024-03-16T18:46:36.694600",
     "exception": false,
     "start_time": "2024-03-16T18:46:36.670971",
     "status": "completed"
    },
    "tags": []
   },
   "outputs": [
    {
     "data": {
      "text/plain": [
       "unique ID     0\n",
       "query_text    0\n",
       "category      0\n",
       "dtype: int64"
      ]
     },
     "execution_count": 11,
     "metadata": {},
     "output_type": "execute_result"
    }
   ],
   "source": [
    "# Checking for Null values\n",
    "\n",
    "train_df.isnull().sum()"
   ]
  },
  {
   "cell_type": "code",
   "execution_count": 12,
   "id": "4ce657f7",
   "metadata": {
    "execution": {
     "iopub.execute_input": "2024-03-16T18:46:36.717603Z",
     "iopub.status.busy": "2024-03-16T18:46:36.716952Z",
     "iopub.status.idle": "2024-03-16T18:46:36.729572Z",
     "shell.execute_reply": "2024-03-16T18:46:36.728186Z"
    },
    "papermill": {
     "duration": 0.027371,
     "end_time": "2024-03-16T18:46:36.732135",
     "exception": false,
     "start_time": "2024-03-16T18:46:36.704764",
     "status": "completed"
    },
    "tags": []
   },
   "outputs": [
    {
     "data": {
      "text/plain": [
       "0"
      ]
     },
     "execution_count": 12,
     "metadata": {},
     "output_type": "execute_result"
    }
   ],
   "source": [
    "# Checking for duplicate values\n",
    "\n",
    "train_df.duplicated().sum()"
   ]
  },
  {
   "cell_type": "markdown",
   "id": "f041ab47",
   "metadata": {
    "papermill": {
     "duration": 0.009895,
     "end_time": "2024-03-16T18:46:36.752413",
     "exception": false,
     "start_time": "2024-03-16T18:46:36.742518",
     "status": "completed"
    },
    "tags": []
   },
   "source": [
    "# **Graphical Analysis :**"
   ]
  },
  {
   "cell_type": "code",
   "execution_count": 13,
   "id": "f0f24f5c",
   "metadata": {
    "execution": {
     "iopub.execute_input": "2024-03-16T18:46:36.775063Z",
     "iopub.status.busy": "2024-03-16T18:46:36.774554Z",
     "iopub.status.idle": "2024-03-16T18:46:37.117119Z",
     "shell.execute_reply": "2024-03-16T18:46:37.115789Z"
    },
    "papermill": {
     "duration": 0.357393,
     "end_time": "2024-03-16T18:46:37.119965",
     "exception": false,
     "start_time": "2024-03-16T18:46:36.762572",
     "status": "completed"
    },
    "tags": []
   },
   "outputs": [
    {
     "data": {
      "image/png": "[encoded data removed]",
      "text/plain": [
       "<Figure size 800x600 with 1 Axes>"
      ]
     },
     "metadata": {},
     "output_type": "display_data"
    }
   ],
   "source": [
    "# Check the distribution of categories\n",
    "\n",
    "plt.figure(figsize=(8, 6))\n",
    "train_df['category'].value_counts().plot(kind='bar')\n",
    "plt.title('Distribution of Categories')\n",
    "plt.xlabel('Category')\n",
    "plt.ylabel('Count')\n",
    "plt.show()"
   ]
  },
  {
   "cell_type": "code",
   "execution_count": 14,
   "id": "4fd2569b",
   "metadata": {
    "execution": {
     "iopub.execute_input": "2024-03-16T18:46:37.145090Z",
     "iopub.status.busy": "2024-03-16T18:46:37.144592Z",
     "iopub.status.idle": "2024-03-16T18:46:37.489305Z",
     "shell.execute_reply": "2024-03-16T18:46:37.487806Z"
    },
    "papermill": {
     "duration": 0.361341,
     "end_time": "2024-03-16T18:46:37.492394",
     "exception": false,
     "start_time": "2024-03-16T18:46:37.131053",
     "status": "completed"
    },
    "tags": []
   },
   "outputs": [
    {
     "data": {
      "image/png": "[encoded data removed]",
      "text/plain": [
       "<Figure size 800x600 with 1 Axes>"
      ]
     },
     "metadata": {},
     "output_type": "display_data"
    }
   ],
   "source": [
    "# Check the distribution of query text lengths\n",
    "\n",
    "train_df['text_length'] = train_df['query_text'].apply(len)\n",
    "plt.figure(figsize=(8, 6))\n",
    "train_df['text_length'].hist(bins=30)\n",
    "plt.title('Distribution of Query Text Lengths')\n",
    "plt.xlabel('Text Length')\n",
    "plt.ylabel('Frequency')\n",
    "plt.show()"
   ]
  },
  {
   "cell_type": "code",
   "execution_count": 15,
   "id": "b3e9204e",
   "metadata": {
    "execution": {
     "iopub.execute_input": "2024-03-16T18:46:37.517633Z",
     "iopub.status.busy": "2024-03-16T18:46:37.517184Z",
     "iopub.status.idle": "2024-03-16T18:46:38.181145Z",
     "shell.execute_reply": "2024-03-16T18:46:38.179777Z"
    },
    "papermill": {
     "duration": 0.680979,
     "end_time": "2024-03-16T18:46:38.185087",
     "exception": false,
     "start_time": "2024-03-16T18:46:37.504108",
     "status": "completed"
    },
    "tags": []
   },
   "outputs": [
    {
     "data": {
      "image/png": "[encoded data removed]",
      "text/plain": [
       "<Figure size 1200x800 with 1 Axes>"
      ]
     },
     "metadata": {},
     "output_type": "display_data"
    }
   ],
   "source": [
    "# Check the distribution of text lengths by category\n",
    "\n",
    "plt.figure(figsize=(12, 8))\n",
    "for category in train_df['category'].unique():\n",
    "    subset = train_df[train_df['category'] == category]\n",
    "    plt.hist(subset['text_length'], bins=30, alpha=0.5, label=category)\n",
    "\n",
    "plt.title('Distribution of Query Text Lengths by Category')\n",
    "plt.xlabel('Text Length')\n",
    "plt.ylabel('Frequency')\n",
    "plt.legend()\n",
    "plt.show()"
   ]
  },
  {
   "cell_type": "markdown",
   "id": "e3dc70d0",
   "metadata": {
    "papermill": {
     "duration": 0.013007,
     "end_time": "2024-03-16T18:46:38.211963",
     "exception": false,
     "start_time": "2024-03-16T18:46:38.198956",
     "status": "completed"
    },
    "tags": []
   },
   "source": [
    "# **Data Preperation for ML Model :**"
   ]
  },
  {
   "cell_type": "code",
   "execution_count": 16,
   "id": "db106080",
   "metadata": {
    "execution": {
     "iopub.execute_input": "2024-03-16T18:46:38.241136Z",
     "iopub.status.busy": "2024-03-16T18:46:38.240612Z",
     "iopub.status.idle": "2024-03-16T18:46:38.392822Z",
     "shell.execute_reply": "2024-03-16T18:46:38.391714Z"
    },
    "papermill": {
     "duration": 0.170705,
     "end_time": "2024-03-16T18:46:38.395682",
     "exception": false,
     "start_time": "2024-03-16T18:46:38.224977",
     "status": "completed"
    },
    "tags": []
   },
   "outputs": [],
   "source": [
    "X = train_df['query_text']\n",
    "y = train_df['category']\n",
    "\n",
    "X_train, X_val, y_train, y_val = train_test_split(X, y, test_size=0.2, random_state=42)\n",
    "\n",
    "vectorizer1 = TfidfVectorizer(stop_words='english')\n",
    "X_train_tfidf1 = vectorizer1.fit_transform(X_train)\n",
    "X_val_tfidf1 = vectorizer1.transform(X_val)\n",
    "X_test_tfidf1 = vectorizer1.transform(test_df['query_text'])"
   ]
  },
  {
   "cell_type": "code",
   "execution_count": 17,
   "id": "018bf84e",
   "metadata": {
    "execution": {
     "iopub.execute_input": "2024-03-16T18:46:38.422558Z",
     "iopub.status.busy": "2024-03-16T18:46:38.421401Z",
     "iopub.status.idle": "2024-03-16T18:46:38.640108Z",
     "shell.execute_reply": "2024-03-16T18:46:38.638966Z"
    },
    "papermill": {
     "duration": 0.235,
     "end_time": "2024-03-16T18:46:38.642956",
     "exception": false,
     "start_time": "2024-03-16T18:46:38.407956",
     "status": "completed"
    },
    "tags": []
   },
   "outputs": [],
   "source": [
    "# Handle class imbalance using SMOTE\n",
    "\n",
    "smote = SMOTE(random_state=42)\n",
    "X_train_resampled1, y_train_resampled1 = smote.fit_resample(X_train_tfidf1, y_train)"
   ]
  },
  {
   "cell_type": "markdown",
   "id": "25616c60",
   "metadata": {
    "papermill": {
     "duration": 0.012759,
     "end_time": "2024-03-16T18:46:38.668878",
     "exception": false,
     "start_time": "2024-03-16T18:46:38.656119",
     "status": "completed"
    },
    "tags": []
   },
   "source": [
    "# **Building the Models :**"
   ]
  },
  {
   "cell_type": "markdown",
   "id": "46c6badd",
   "metadata": {
    "papermill": {
     "duration": 0.011972,
     "end_time": "2024-03-16T18:46:38.693143",
     "exception": false,
     "start_time": "2024-03-16T18:46:38.681171",
     "status": "completed"
    },
    "tags": []
   },
   "source": [
    "* **Train the Naive Bayes classifier with hyperparameter tuning**"
   ]
  },
  {
   "cell_type": "code",
   "execution_count": 18,
   "id": "975e9960",
   "metadata": {
    "execution": {
     "iopub.execute_input": "2024-03-16T18:46:38.720005Z",
     "iopub.status.busy": "2024-03-16T18:46:38.719289Z",
     "iopub.status.idle": "2024-03-16T18:46:41.105075Z",
     "shell.execute_reply": "2024-03-16T18:46:41.103413Z"
    },
    "papermill": {
     "duration": 2.402872,
     "end_time": "2024-03-16T18:46:41.108487",
     "exception": false,
     "start_time": "2024-03-16T18:46:38.705615",
     "status": "completed"
    },
    "tags": []
   },
   "outputs": [
    {
     "name": "stdout",
     "output_type": "stream",
     "text": [
      "Fitting 5 folds for each of 2 candidates, totalling 10 fits\n",
      "Best parameters: {'alpha': 0.5}\n",
      "Best cross-validation score: 0.78787023977433\n"
     ]
    }
   ],
   "source": [
    "param_grid = {\n",
    "    'alpha': [0.5, 1.0],\n",
    "}\n",
    "\n",
    "nb = MultinomialNB()\n",
    "grid_search = GridSearchCV(nb, param_grid, cv=5, n_jobs=-1, verbose=1)\n",
    "grid_search.fit(X_train_resampled1, y_train_resampled1)\n",
    "\n",
    "print(\"Best parameters:\", grid_search.best_params_)\n",
    "print(\"Best cross-validation score:\", grid_search.best_score_)"
   ]
  },
  {
   "cell_type": "markdown",
   "id": "a8d5391e",
   "metadata": {
    "papermill": {
     "duration": 0.012205,
     "end_time": "2024-03-16T18:46:41.138906",
     "exception": false,
     "start_time": "2024-03-16T18:46:41.126701",
     "status": "completed"
    },
    "tags": []
   },
   "source": [
    "**Evaluate the model :**"
   ]
  },
  {
   "cell_type": "code",
   "execution_count": 19,
   "id": "f2d3a297",
   "metadata": {
    "execution": {
     "iopub.execute_input": "2024-03-16T18:46:41.166828Z",
     "iopub.status.busy": "2024-03-16T18:46:41.165986Z",
     "iopub.status.idle": "2024-03-16T18:46:41.202139Z",
     "shell.execute_reply": "2024-03-16T18:46:41.200496Z"
    },
    "papermill": {
     "duration": 0.053508,
     "end_time": "2024-03-16T18:46:41.205064",
     "exception": false,
     "start_time": "2024-03-16T18:46:41.151556",
     "status": "completed"
    },
    "tags": []
   },
   "outputs": [
    {
     "name": "stdout",
     "output_type": "stream",
     "text": [
      "                       precision    recall  f1-score   support\n",
      "\n",
      "academic_non_servable       0.38      0.83      0.52       141\n",
      "    academic_servable       0.77      0.47      0.58       332\n",
      "       conversational       0.58      0.70      0.63       103\n",
      "              general       0.71      0.72      0.72       229\n",
      "                 junk       0.74      0.49      0.59       195\n",
      "\n",
      "             accuracy                           0.60      1000\n",
      "            macro avg       0.63      0.64      0.61      1000\n",
      "         weighted avg       0.68      0.60      0.61      1000\n",
      "\n",
      "Accuracy: 0.605\n"
     ]
    }
   ],
   "source": [
    "# On Validation data\n",
    "\n",
    "y_pred_val = grid_search.predict(X_val_tfidf1)\n",
    "\n",
    "print(classification_report(y_val, y_pred_val))\n",
    "print(\"Accuracy:\", accuracy_score(y_val, y_pred_val))"
   ]
  },
  {
   "cell_type": "markdown",
   "id": "fc127c80",
   "metadata": {
    "papermill": {
     "duration": 0.011951,
     "end_time": "2024-03-16T18:46:41.229682",
     "exception": false,
     "start_time": "2024-03-16T18:46:41.217731",
     "status": "completed"
    },
    "tags": []
   },
   "source": [
    "**Let's try few defferent steps to see if we can improve the accuracy. We'll start by experimenting with different feature extraction techniques and model selection.**"
   ]
  },
  {
   "cell_type": "code",
   "execution_count": 20,
   "id": "fe817b44",
   "metadata": {
    "execution": {
     "iopub.execute_input": "2024-03-16T18:46:41.256656Z",
     "iopub.status.busy": "2024-03-16T18:46:41.256159Z",
     "iopub.status.idle": "2024-03-16T18:46:41.567478Z",
     "shell.execute_reply": "2024-03-16T18:46:41.565919Z"
    },
    "papermill": {
     "duration": 0.328331,
     "end_time": "2024-03-16T18:46:41.570628",
     "exception": false,
     "start_time": "2024-03-16T18:46:41.242297",
     "status": "completed"
    },
    "tags": []
   },
   "outputs": [],
   "source": [
    "# we can experiment with different vectorization techniques\n",
    "\n",
    "vectorizer = TfidfVectorizer(stop_words='english', ngram_range=(1, 2))\n",
    "X_train_tfidf = vectorizer.fit_transform(X_train)\n",
    "X_val_tfidf = vectorizer.transform(X_val)\n",
    "X_test_tfidf = vectorizer.transform(test_df['query_text'])"
   ]
  },
  {
   "cell_type": "code",
   "execution_count": 21,
   "id": "1fc4040c",
   "metadata": {
    "execution": {
     "iopub.execute_input": "2024-03-16T18:46:41.599972Z",
     "iopub.status.busy": "2024-03-16T18:46:41.598823Z",
     "iopub.status.idle": "2024-03-16T18:46:42.234608Z",
     "shell.execute_reply": "2024-03-16T18:46:42.232749Z"
    },
    "papermill": {
     "duration": 0.654026,
     "end_time": "2024-03-16T18:46:42.237725",
     "exception": false,
     "start_time": "2024-03-16T18:46:41.583699",
     "status": "completed"
    },
    "tags": []
   },
   "outputs": [],
   "source": [
    "# Handle class imbalance using SMOTE\n",
    "\n",
    "smote = SMOTE(random_state=42)\n",
    "X_train_resampled, y_train_resampled = smote.fit_resample(X_train_tfidf, y_train)"
   ]
  },
  {
   "cell_type": "markdown",
   "id": "2cd0ae97",
   "metadata": {
    "papermill": {
     "duration": 0.012142,
     "end_time": "2024-03-16T18:46:42.262827",
     "exception": false,
     "start_time": "2024-03-16T18:46:42.250685",
     "status": "completed"
    },
    "tags": []
   },
   "source": [
    "* **Let's try using Support Vector Machines (SVM)**"
   ]
  },
  {
   "cell_type": "code",
   "execution_count": 22,
   "id": "6dd8f919",
   "metadata": {
    "execution": {
     "iopub.execute_input": "2024-03-16T18:46:42.292936Z",
     "iopub.status.busy": "2024-03-16T18:46:42.291554Z",
     "iopub.status.idle": "2024-03-16T18:46:48.328023Z",
     "shell.execute_reply": "2024-03-16T18:46:48.326697Z"
    },
    "papermill": {
     "duration": 6.053256,
     "end_time": "2024-03-16T18:46:48.331005",
     "exception": false,
     "start_time": "2024-03-16T18:46:42.277749",
     "status": "completed"
    },
    "tags": []
   },
   "outputs": [
    {
     "data": {
      "text/html": [
       "<style>#sk-container-id-1 {color: black;background-color: white;}#sk-container-id-1 pre{padding: 0;}#sk-container-id-1 div.sk-toggleable {background-color: white;}#sk-container-id-1 label.sk-toggleable__label {cursor: pointer;display: block;width: 100%;margin-bottom: 0;padding: 0.3em;box-sizing: border-box;text-align: center;}#sk-container-id-1 label.sk-toggleable__label-arrow:before {content: \"▸\";float: left;margin-right: 0.25em;color: #696969;}#sk-container-id-1 label.sk-toggleable__label-arrow:hover:before {color: black;}#sk-container-id-1 div.sk-estimator:hover label.sk-toggleable__label-arrow:before {color: black;}#sk-container-id-1 div.sk-toggleable__content {max-height: 0;max-width: 0;overflow: hidden;text-align: left;background-color: #f0f8ff;}#sk-container-id-1 div.sk-toggleable__content pre {margin: 0.2em;color: black;border-radius: 0.25em;background-color: #f0f8ff;}#sk-container-id-1 input.sk-toggleable__control:checked~div.sk-toggleable__content {max-height: 200px;max-width: 100%;overflow: auto;}#sk-container-id-1 input.sk-toggleable__control:checked~label.sk-toggleable__label-arrow:before {content: \"▾\";}#sk-container-id-1 div.sk-estimator input.sk-toggleable__control:checked~label.sk-toggleable__label {background-color: #d4ebff;}#sk-container-id-1 div.sk-label input.sk-toggleable__control:checked~label.sk-toggleable__label {background-color: #d4ebff;}#sk-container-id-1 input.sk-hidden--visually {border: 0;clip: rect(1px 1px 1px 1px);clip: rect(1px, 1px, 1px, 1px);height: 1px;margin: -1px;overflow: hidden;padding: 0;position: absolute;width: 1px;}#sk-container-id-1 div.sk-estimator {font-family: monospace;background-color: #f0f8ff;border: 1px dotted black;border-radius: 0.25em;box-sizing: border-box;margin-bottom: 0.5em;}#sk-container-id-1 div.sk-estimator:hover {background-color: #d4ebff;}#sk-container-id-1 div.sk-parallel-item::after {content: \"\";width: 100%;border-bottom: 1px solid gray;flex-grow: 1;}#sk-container-id-1 div.sk-label:hover label.sk-toggleable__label {background-color: #d4ebff;}#sk-container-id-1 div.sk-serial::before {content: \"\";position: absolute;border-left: 1px solid gray;box-sizing: border-box;top: 0;bottom: 0;left: 50%;z-index: 0;}#sk-container-id-1 div.sk-serial {display: flex;flex-direction: column;align-items: center;background-color: white;padding-right: 0.2em;padding-left: 0.2em;position: relative;}#sk-container-id-1 div.sk-item {position: relative;z-index: 1;}#sk-container-id-1 div.sk-parallel {display: flex;align-items: stretch;justify-content: center;background-color: white;position: relative;}#sk-container-id-1 div.sk-item::before, #sk-container-id-1 div.sk-parallel-item::before {content: \"\";position: absolute;border-left: 1px solid gray;box-sizing: border-box;top: 0;bottom: 0;left: 50%;z-index: -1;}#sk-container-id-1 div.sk-parallel-item {display: flex;flex-direction: column;z-index: 1;position: relative;background-color: white;}#sk-container-id-1 div.sk-parallel-item:first-child::after {align-self: flex-end;width: 50%;}#sk-container-id-1 div.sk-parallel-item:last-child::after {align-self: flex-start;width: 50%;}#sk-container-id-1 div.sk-parallel-item:only-child::after {width: 0;}#sk-container-id-1 div.sk-dashed-wrapped {border: 1px dashed gray;margin: 0 0.4em 0.5em 0.4em;box-sizing: border-box;padding-bottom: 0.4em;background-color: white;}#sk-container-id-1 div.sk-label label {font-family: monospace;font-weight: bold;display: inline-block;line-height: 1.2em;}#sk-container-id-1 div.sk-label-container {text-align: center;}#sk-container-id-1 div.sk-container {/* jupyter's `normalize.less` sets `[hidden] { display: none; }` but bootstrap.min.css set `[hidden] { display: none !important; }` so we also need the `!important` here to be able to override the default hidden behavior on the sphinx rendered scikit-learn.org. See: https://github.com/scikit-learn/scikit-learn/issues/21755 */display: inline-block !important;position: relative;}#sk-container-id-1 div.sk-text-repr-fallback {display: none;}</style><div id=\"sk-container-id-1\" class=\"sk-top-container\"><div class=\"sk-text-repr-fallback\"><pre>SVC(kernel=&#x27;linear&#x27;, random_state=42)</pre><b>In a Jupyter environment, please rerun this cell to show the HTML representation or trust the notebook. <br />On GitHub, the HTML representation is unable to render, please try loading this page with nbviewer.org.</b></div><div class=\"sk-container\" hidden><div class=\"sk-item\"><div class=\"sk-estimator sk-toggleable\"><input class=\"sk-toggleable__control sk-hidden--visually\" id=\"sk-estimator-id-1\" type=\"checkbox\" checked><label for=\"sk-estimator-id-1\" class=\"sk-toggleable__label sk-toggleable__label-arrow\">SVC</label><div class=\"sk-toggleable__content\"><pre>SVC(kernel=&#x27;linear&#x27;, random_state=42)</pre></div></div></div></div></div>"
      ],
      "text/plain": [
       "SVC(kernel='linear', random_state=42)"
      ]
     },
     "execution_count": 22,
     "metadata": {},
     "output_type": "execute_result"
    }
   ],
   "source": [
    "\n",
    "svm = SVC(kernel='linear', random_state=42)\n",
    "svm.fit(X_train_resampled, y_train_resampled)"
   ]
  },
  {
   "cell_type": "markdown",
   "id": "5bf5c6d7",
   "metadata": {
    "papermill": {
     "duration": 0.012244,
     "end_time": "2024-03-16T18:46:48.356108",
     "exception": false,
     "start_time": "2024-03-16T18:46:48.343864",
     "status": "completed"
    },
    "tags": []
   },
   "source": [
    "* **Evaluate the model :**"
   ]
  },
  {
   "cell_type": "code",
   "execution_count": 23,
   "id": "67465d4d",
   "metadata": {
    "execution": {
     "iopub.execute_input": "2024-03-16T18:46:48.385612Z",
     "iopub.status.busy": "2024-03-16T18:46:48.385171Z",
     "iopub.status.idle": "2024-03-16T18:46:48.729921Z",
     "shell.execute_reply": "2024-03-16T18:46:48.728837Z"
    },
    "papermill": {
     "duration": 0.361641,
     "end_time": "2024-03-16T18:46:48.732485",
     "exception": false,
     "start_time": "2024-03-16T18:46:48.370844",
     "status": "completed"
    },
    "tags": []
   },
   "outputs": [
    {
     "name": "stdout",
     "output_type": "stream",
     "text": [
      "                       precision    recall  f1-score   support\n",
      "\n",
      "academic_non_servable       0.77      0.77      0.77       141\n",
      "    academic_servable       0.76      0.67      0.71       332\n",
      "       conversational       0.64      0.67      0.65       103\n",
      "              general       0.85      0.67      0.75       229\n",
      "                 junk       0.53      0.75      0.62       195\n",
      "\n",
      "             accuracy                           0.70      1000\n",
      "            macro avg       0.71      0.71      0.70      1000\n",
      "         weighted avg       0.72      0.70      0.70      1000\n",
      "\n",
      "SVM Accuracy: 0.7\n"
     ]
    }
   ],
   "source": [
    "# On Validation data\n",
    "\n",
    "y_pred_svm = svm.predict(X_val_tfidf)\n",
    "print(classification_report(y_val, y_pred_svm))\n",
    "print(\"SVM Accuracy:\", accuracy_score(y_val, y_pred_svm))"
   ]
  },
  {
   "cell_type": "markdown",
   "id": "334bbdec",
   "metadata": {
    "papermill": {
     "duration": 0.012578,
     "end_time": "2024-03-16T18:46:48.758081",
     "exception": false,
     "start_time": "2024-03-16T18:46:48.745503",
     "status": "completed"
    },
    "tags": []
   },
   "source": [
    "* **Let's try using Random Forest**"
   ]
  },
  {
   "cell_type": "code",
   "execution_count": 24,
   "id": "ac262710",
   "metadata": {
    "execution": {
     "iopub.execute_input": "2024-03-16T18:46:48.785535Z",
     "iopub.status.busy": "2024-03-16T18:46:48.784733Z",
     "iopub.status.idle": "2024-03-16T18:47:04.030079Z",
     "shell.execute_reply": "2024-03-16T18:47:04.029199Z"
    },
    "papermill": {
     "duration": 15.261462,
     "end_time": "2024-03-16T18:47:04.032311",
     "exception": false,
     "start_time": "2024-03-16T18:46:48.770849",
     "status": "completed"
    },
    "tags": []
   },
   "outputs": [
    {
     "data": {
      "text/html": [
       "<style>#sk-container-id-2 {color: black;background-color: white;}#sk-container-id-2 pre{padding: 0;}#sk-container-id-2 div.sk-toggleable {background-color: white;}#sk-container-id-2 label.sk-toggleable__label {cursor: pointer;display: block;width: 100%;margin-bottom: 0;padding: 0.3em;box-sizing: border-box;text-align: center;}#sk-container-id-2 label.sk-toggleable__label-arrow:before {content: \"▸\";float: left;margin-right: 0.25em;color: #696969;}#sk-container-id-2 label.sk-toggleable__label-arrow:hover:before {color: black;}#sk-container-id-2 div.sk-estimator:hover label.sk-toggleable__label-arrow:before {color: black;}#sk-container-id-2 div.sk-toggleable__content {max-height: 0;max-width: 0;overflow: hidden;text-align: left;background-color: #f0f8ff;}#sk-container-id-2 div.sk-toggleable__content pre {margin: 0.2em;color: black;border-radius: 0.25em;background-color: #f0f8ff;}#sk-container-id-2 input.sk-toggleable__control:checked~div.sk-toggleable__content {max-height: 200px;max-width: 100%;overflow: auto;}#sk-container-id-2 input.sk-toggleable__control:checked~label.sk-toggleable__label-arrow:before {content: \"▾\";}#sk-container-id-2 div.sk-estimator input.sk-toggleable__control:checked~label.sk-toggleable__label {background-color: #d4ebff;}#sk-container-id-2 div.sk-label input.sk-toggleable__control:checked~label.sk-toggleable__label {background-color: #d4ebff;}#sk-container-id-2 input.sk-hidden--visually {border: 0;clip: rect(1px 1px 1px 1px);clip: rect(1px, 1px, 1px, 1px);height: 1px;margin: -1px;overflow: hidden;padding: 0;position: absolute;width: 1px;}#sk-container-id-2 div.sk-estimator {font-family: monospace;background-color: #f0f8ff;border: 1px dotted black;border-radius: 0.25em;box-sizing: border-box;margin-bottom: 0.5em;}#sk-container-id-2 div.sk-estimator:hover {background-color: #d4ebff;}#sk-container-id-2 div.sk-parallel-item::after {content: \"\";width: 100%;border-bottom: 1px solid gray;flex-grow: 1;}#sk-container-id-2 div.sk-label:hover label.sk-toggleable__label {background-color: #d4ebff;}#sk-container-id-2 div.sk-serial::before {content: \"\";position: absolute;border-left: 1px solid gray;box-sizing: border-box;top: 0;bottom: 0;left: 50%;z-index: 0;}#sk-container-id-2 div.sk-serial {display: flex;flex-direction: column;align-items: center;background-color: white;padding-right: 0.2em;padding-left: 0.2em;position: relative;}#sk-container-id-2 div.sk-item {position: relative;z-index: 1;}#sk-container-id-2 div.sk-parallel {display: flex;align-items: stretch;justify-content: center;background-color: white;position: relative;}#sk-container-id-2 div.sk-item::before, #sk-container-id-2 div.sk-parallel-item::before {content: \"\";position: absolute;border-left: 1px solid gray;box-sizing: border-box;top: 0;bottom: 0;left: 50%;z-index: -1;}#sk-container-id-2 div.sk-parallel-item {display: flex;flex-direction: column;z-index: 1;position: relative;background-color: white;}#sk-container-id-2 div.sk-parallel-item:first-child::after {align-self: flex-end;width: 50%;}#sk-container-id-2 div.sk-parallel-item:last-child::after {align-self: flex-start;width: 50%;}#sk-container-id-2 div.sk-parallel-item:only-child::after {width: 0;}#sk-container-id-2 div.sk-dashed-wrapped {border: 1px dashed gray;margin: 0 0.4em 0.5em 0.4em;box-sizing: border-box;padding-bottom: 0.4em;background-color: white;}#sk-container-id-2 div.sk-label label {font-family: monospace;font-weight: bold;display: inline-block;line-height: 1.2em;}#sk-container-id-2 div.sk-label-container {text-align: center;}#sk-container-id-2 div.sk-container {/* jupyter's `normalize.less` sets `[hidden] { display: none; }` but bootstrap.min.css set `[hidden] { display: none !important; }` so we also need the `!important` here to be able to override the default hidden behavior on the sphinx rendered scikit-learn.org. See: https://github.com/scikit-learn/scikit-learn/issues/21755 */display: inline-block !important;position: relative;}#sk-container-id-2 div.sk-text-repr-fallback {display: none;}</style><div id=\"sk-container-id-2\" class=\"sk-top-container\"><div class=\"sk-text-repr-fallback\"><pre>RandomForestClassifier(random_state=42)</pre><b>In a Jupyter environment, please rerun this cell to show the HTML representation or trust the notebook. <br />On GitHub, the HTML representation is unable to render, please try loading this page with nbviewer.org.</b></div><div class=\"sk-container\" hidden><div class=\"sk-item\"><div class=\"sk-estimator sk-toggleable\"><input class=\"sk-toggleable__control sk-hidden--visually\" id=\"sk-estimator-id-2\" type=\"checkbox\" checked><label for=\"sk-estimator-id-2\" class=\"sk-toggleable__label sk-toggleable__label-arrow\">RandomForestClassifier</label><div class=\"sk-toggleable__content\"><pre>RandomForestClassifier(random_state=42)</pre></div></div></div></div></div>"
      ],
      "text/plain": [
       "RandomForestClassifier(random_state=42)"
      ]
     },
     "execution_count": 24,
     "metadata": {},
     "output_type": "execute_result"
    }
   ],
   "source": [
    "rf = RandomForestClassifier(n_estimators=100, random_state=42)\n",
    "rf.fit(X_train_resampled, y_train_resampled)"
   ]
  },
  {
   "cell_type": "markdown",
   "id": "4eebbf54",
   "metadata": {
    "papermill": {
     "duration": 0.012348,
     "end_time": "2024-03-16T18:47:04.057561",
     "exception": false,
     "start_time": "2024-03-16T18:47:04.045213",
     "status": "completed"
    },
    "tags": []
   },
   "source": [
    "* **Evaluate the model :**"
   ]
  },
  {
   "cell_type": "code",
   "execution_count": 25,
   "id": "0d411e56",
   "metadata": {
    "execution": {
     "iopub.execute_input": "2024-03-16T18:47:04.085455Z",
     "iopub.status.busy": "2024-03-16T18:47:04.084656Z",
     "iopub.status.idle": "2024-03-16T18:47:04.372019Z",
     "shell.execute_reply": "2024-03-16T18:47:04.370788Z"
    },
    "papermill": {
     "duration": 0.30457,
     "end_time": "2024-03-16T18:47:04.374977",
     "exception": false,
     "start_time": "2024-03-16T18:47:04.070407",
     "status": "completed"
    },
    "tags": []
   },
   "outputs": [
    {
     "name": "stdout",
     "output_type": "stream",
     "text": [
      "                       precision    recall  f1-score   support\n",
      "\n",
      "academic_non_servable       0.96      0.68      0.80       141\n",
      "    academic_servable       0.74      0.60      0.66       332\n",
      "       conversational       0.26      0.79      0.40       103\n",
      "              general       0.86      0.62      0.72       229\n",
      "                 junk       0.66      0.53      0.59       195\n",
      "\n",
      "             accuracy                           0.62      1000\n",
      "            macro avg       0.70      0.64      0.63      1000\n",
      "         weighted avg       0.73      0.62      0.65      1000\n",
      "\n",
      "Random Forest Accuracy: 0.622\n"
     ]
    }
   ],
   "source": [
    "# On Validation data\n",
    "\n",
    "y_pred_rf = rf.predict(X_val_tfidf)\n",
    "print(classification_report(y_val, y_pred_rf))\n",
    "print(\"Random Forest Accuracy:\", accuracy_score(y_val, y_pred_rf))"
   ]
  },
  {
   "cell_type": "markdown",
   "id": "9c18bce0",
   "metadata": {
    "papermill": {
     "duration": 0.01381,
     "end_time": "2024-03-16T18:47:04.402202",
     "exception": false,
     "start_time": "2024-03-16T18:47:04.388392",
     "status": "completed"
    },
    "tags": []
   },
   "source": [
    "# **Submission :**"
   ]
  },
  {
   "cell_type": "markdown",
   "id": "b9bda7c3",
   "metadata": {
    "papermill": {
     "duration": 0.099589,
     "end_time": "2024-03-16T18:47:04.515117",
     "exception": false,
     "start_time": "2024-03-16T18:47:04.415528",
     "status": "completed"
    },
    "tags": []
   },
   "source": [
    "**Since SVM yielded better accuracy, let's proceed with making predictions on the test set using the SVM model and save the final submission**"
   ]
  },
  {
   "cell_type": "code",
   "execution_count": 26,
   "id": "ffc00f97",
   "metadata": {
    "execution": {
     "iopub.execute_input": "2024-03-16T18:47:04.544291Z",
     "iopub.status.busy": "2024-03-16T18:47:04.542806Z",
     "iopub.status.idle": "2024-03-16T18:47:04.877528Z",
     "shell.execute_reply": "2024-03-16T18:47:04.876506Z"
    },
    "papermill": {
     "duration": 0.352331,
     "end_time": "2024-03-16T18:47:04.880421",
     "exception": false,
     "start_time": "2024-03-16T18:47:04.528090",
     "status": "completed"
    },
    "tags": []
   },
   "outputs": [],
   "source": [
    "# Make predictions on the test set using SVM\n",
    "predictions = svm.predict(X_test_tfidf)\n",
    "\n",
    "# Save the final submission\n",
    "output = test_df[['unique ID']].copy()\n",
    "output['category'] = predictions\n",
    "output[['unique ID', 'category']].to_csv('submission.csv', index=False)"
   ]
  }
 ],
 "metadata": {
  "kaggle": {
   "accelerator": "none",
   "dataSources": [
    {
     "databundleVersionId": 7555629,
     "sourceId": 67156,
     "sourceType": "competition"
    }
   ],
   "dockerImageVersionId": 30664,
   "isGpuEnabled": false,
   "isInternetEnabled": false,
   "language": "python",
   "sourceType": "notebook"
  },
  "kernelspec": {
   "display_name": "Python 3",
   "language": "python",
   "name": "python3"
  },
  "language_info": {
   "codemirror_mode": {
    "name": "ipython",
    "version": 3
   },
   "file_extension": ".py",
   "mimetype": "text/x-python",
   "name": "python",
   "nbconvert_exporter": "python",
   "pygments_lexer": "ipython3",
   "version": "3.10.13"
  },
  "papermill": {
   "default_parameters": {},
   "duration": 37.702776,
   "end_time": "2024-03-16T18:47:07.519330",
   "environment_variables": {},
   "exception": null,
   "input_path": "__notebook__.ipynb",
   "output_path": "__notebook__.ipynb",
   "parameters": {},
   "start_time": "2024-03-16T18:46:29.816554",
   "version": "2.5.0"
  }
 },
 "nbformat": 4,
 "nbformat_minor": 5
}
